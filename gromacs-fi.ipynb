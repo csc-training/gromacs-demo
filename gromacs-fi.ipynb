{
 "cells": [
  {
   "cell_type": "markdown",
   "metadata": {},
   "source": [
    "[Lähdekoodi GitHubissa](https://github.com/csc-training/gromacs-demo)"
   ]
  },
  {
   "cell_type": "markdown",
   "metadata": {},
   "source": [
    "![](img/gmx-logo.png)"
   ]
  },
  {
   "cell_type": "markdown",
   "metadata": {},
   "source": [
    "# Karkeistetun molekyylidynamiikkasimulaation ajo GROMACS-ohjelmalla"
   ]
  },
  {
   "cell_type": "markdown",
   "metadata": {},
   "source": [
    "**[Molekyylidynamiikka (MD)](https://fi.wikipedia.org/wiki/Molekyylidynamiikka)** on monipuolinen laskennallinen menetelmä, jolla voidaan simuloida makromolekyylien (esim. proteiinien) liikettä perustuen klassisen mekaniikan liikeyhtälöihin.\n",
    "\n",
    "Tässä harjoituksessa demonstroidaan miten lipidien, eli rasva-aineiden, dynamiikkaa ja itsejärjestymistä voidaan tutkia [GROMACS](https://www.gromacs.org/)-ohjelmiston avulla. Simulaation kiihdyttämiseksi hyödynnetään **karkeistettuun** [Martini](http://cgmartini.nl/)-voimakenttään perustuvaa mallia, jossa useampi vierekkäinen atomi mallinnetaan yhtenä hiukkasena, siis eräänlaisena \"superatomina\". Näin ollen simuloitavien hiukkasten määrä pienenee ja laskut nopeutuvat. Lisäksi simulaatiossa hyödynnetään rinnakkaislaskentaa *suurteholaskennan* (high-performance computing, HPC) periaatteen havainnollistamiseksi.\n",
    "\n",
    "## Mikä lipidi?\n",
    "\n",
    "Lipidi-molekyylejä on monenlaisia, mutta niitä yhdistää eräs ominaisuus: ne ovat koostuneet vettä hylkivästä, eli *hydrofobisesta*, hännästä ja veteen liukenevasta, eli *hydrofiilisestä*, päärymästä. Tämä vaikuttaa olennaisesti lipidien ominaisuuksiin ja käyttäytymiseen liuoksissa. POPC-lipidin, eli fosfatidyylikoliinin, rakenne on kuvattu alla kuvassa (a). Kuva (b) havainnollistaa myös karkeistuksen periaatetta, jossa vierekkäisiä atomeita mallinnetaan yhtenä hiukkasena (*bead*, eli \"helmi\") simulaation nopeuttamiseksi.\n",
    "\n",
    "![](img/lipid.png)"
   ]
  },
  {
   "cell_type": "markdown",
   "metadata": {},
   "source": [
    "## Näin suoritat tämän tutoriaalin\n",
    "\n",
    "1. **Valitse solu (alkaa `[ ]:`) ja suorita käsky tai koodinpätkä painamalla samanaikaisesti `Shift+Enter`.**\n",
    "    * Tätä ennen muista kuitenkin lukea solua edeltävä teksti, sillä siinä kerrotaan mitä koodi/käsky tekee!\n",
    "    * **Huom! Kohdassa 2. sinun tulee ensin muuttaa käskyn parametreja aikaisempien tulosteiden perusteella!**\n",
    "2. Odota, että komento suoriutuu: `[*]:` tilalle ilmestyy esim. `[12]:`\n",
    "3. Siirry eteenpäin seuraavaan kohtaan (lue tekstit ja suorita komennot)."
   ]
  },
  {
   "cell_type": "markdown",
   "metadata": {},
   "source": [
    "## 0. Valmistelut\n",
    "\n",
    "Aluksi meidän täytyy tehdä muutamia valintoja liittyen simulaatioomme:\n",
    "\n",
    "1. *Minkälaisia lipidejä ja kuinka montaa molekyyliä haluamme tutkia?*\n",
    "2. *Mitä liuotinta haluamme käyttää?*\n",
    "3. *Kuinka suurta simulaatiokoppia haluamme käyttää?*\n",
    "\n",
    "**Tehtävä 1:**\n",
    "\n",
    "> **Klikkaa allaolevaa solua ja paina `Shift+Enter` suorittaaksesi konfiguraatioskriptin `config.py`. Tämä avaa valikon, johon voit syöttää valintasi. Ehdotetut arvot ovat hyvä lähtökohta, jos teet harjoituksen ensimmäistä kertaa.**\n",
    ">\n",
    "> Mahdollisia liuottimia (solvent) ovat W = vesi, EOL = etanoli ja OD = oktadekaani. Lipidimolekyylien nimet ovat pitkiä ja monimutkaisia, joten lyhenteiden käyttö on yleistä. Simulaatiokopin koko (box size) vastaa kuutiollisen laatikon sivun pituutta yksikössä nanometri."
   ]
  },
  {
   "cell_type": "code",
   "execution_count": null,
   "metadata": {},
   "outputs": [],
   "source": [
    "%run config.py"
   ]
  },
  {
   "cell_type": "markdown",
   "metadata": {},
   "source": [
    "Syöttämäsi arvot tallentuvat automaattisesti muuttujiin `lipid.value`, `solvent.value`, `nlip.value` ja `box.value`."
   ]
  },
  {
   "cell_type": "markdown",
   "metadata": {},
   "source": [
    "## 1. Solvatoidun lipidisysteemin rakentaminen\n",
    "\n",
    "Kun simulaatiota koskevat valinnat on tehty rakennetaan solvatoitu lipidisysteemi.\n",
    "\n",
    "**Tehtävä 2:**\n",
    "\n",
    "> **Lisää valitsemasi määrä tiettyä lipidiä kuutiolliseen simulaatiokoppiin, jonka sivun pituus määriteltiin yllä. Tämä tapahtuu GROMACS-komennon `insert-molecules` avulla ja saatu tulos tallennetaan rakennetiedostoon `lipids.gro`. Klikkaa alla olevaa solua ja suorita komento (`Shift+Enter`):**"
   ]
  },
  {
   "cell_type": "code",
   "execution_count": null,
   "metadata": {
    "scrolled": true
   },
   "outputs": [],
   "source": [
    "!gmx insert-molecules -o lipids.gro -ci ff22/{lipid.value}.gro -nmol {nlip.value} -box {box.value} -try 200"
   ]
  },
  {
   "cell_type": "markdown",
   "metadata": {},
   "source": [
    "GROMACS tulostaa varsin paljon tietoa liittyen komennon suoritukseen. Oleellisin tieto on yleensä tulosteen lopussa. **Tärkeintä on aina tarkistaa, ettei tulosteen lopussa ole mainintaa virheistä (error).**\n",
    "\n",
    "Seuraavaksi lipidilaatikkoomme tulee lisätä valittu liuotin.\n",
    "\n",
    "**Tehtävä 3:**\n",
    "\n",
    "> **Alla oleva `solvate`-komento lisää koppiin niin paljon liuotinta kuin sinne mahtuu ottaen huomioon jo laatikkoon lisätyt lipidimolekyylit. Solvatoitu systeemi tallennetaan tiedostoon `solvated-lipids.gro`. Suorita alla oleva komento:**"
   ]
  },
  {
   "cell_type": "code",
   "execution_count": null,
   "metadata": {
    "scrolled": true
   },
   "outputs": [],
   "source": [
    "!gmx solvate -cp lipids.gro -cs ff22/{solvent.value}.gro -o solvated-lipids.gro"
   ]
  },
  {
   "cell_type": "markdown",
   "metadata": {},
   "source": [
    "**Hienoa, nyt sinulla on laatikko täynnä lipidimolekyylejä ja valittua liuotinta!**\n",
    "\n",
    "## 2. Topologia\n",
    "\n",
    "Ennen varsinaisen MD-simulaation aloittamista tulee meidän luoda nk. \"topologia\". Yksinkertaistaen, tämä on tiedosto, joka kertoo minkälaisia molekyylejä systeemissä on, kuinka monta, sekä mitä voimakenttää käytämme vuorovaikutusten kuvaamiseksi.\n",
    "\n",
    "Tässä harjoituksessa annetaan valmis mallitopologiatiedosto, mutta **ennen kuin voimme käyttää sitä tulee meidän muokata tiedostoa molekyylien lukumäärän osalta**.\n",
    "\n",
    "**Tehtävä 4:**\n",
    "\n",
    "> **Etsi yllä olevista GROMACS-tulosteista kuinka monta lipidiä (*Added X molecules*) ja liuotinmolekyyliä (*Number of solvent molecules: Y*) mahtui oikeasti simulaatiokoppiin. Korvaa sitten tekstit `LIPIDIMOLEKYYLIEN_MÄÄRÄ` ja `LIUOTINMOLEKYYLIEN_MÄÄRÄ` alla olevassa komennossa kyseisillä arvoilla (X ja Y). Kun olet korvannut arvot, suorita alla oleva komento topologiatiedoston muokkaamiseksi.**\n",
    ">\n",
    "> **HUOM!** Jos lipidien ja liuotinmolekyylien lukumäärät topologiassa eivät täsmää rakenteen kanssa, tulevat seuraavat askeleet epäonnistumaan, joten **etsi ja korvaa arvot huolellisesti**."
   ]
  },
  {
   "cell_type": "code",
   "execution_count": null,
   "metadata": {},
   "outputs": [],
   "source": [
    "!bash init_files.sh {lipid.value} LIPIDIMOLEKYYLIEN_MÄÄRÄ {solvent.value} LIUOTINMOLEKYYLIEN_MÄÄRÄ"
   ]
  },
  {
   "cell_type": "markdown",
   "metadata": {},
   "source": [
    "## 3. Energian minimointi\n",
    "\n",
    "Ennen MD-simulaatiota on hyvä varmistaa, että systeemin lähtögeometria on järkevä. Atomit eivät saa olla liian lähellä toisiaan tai sidokset epäsuotuisasti vääntyneitä. Tämä varmistetaan minimoimalla systeemin energia. Käytännössä jokaiseen atomiin vaikuttava voima lasketaan voimakentän avulla ja atomeita liikutetaan voimien suuntaisesti kunnes ne saavuttavat minimin.\n",
    "\n",
    "**Tehtävä 5:**\n",
    "\n",
    "> **Energian minimointia varten luo syötetiedosto `em.tpr`, johon kootaan simulaatiparametrit (`em.mdp`), topologia (`topol.top`) ja systeemin rakenne (`solvated-lipids.gro`). Tämä tapahtuu automaattisesti, kun suoritat alla olevan `grompp` -komennon:**"
   ]
  },
  {
   "cell_type": "code",
   "execution_count": null,
   "metadata": {
    "scrolled": true
   },
   "outputs": [],
   "source": [
    "!gmx grompp -f em.mdp -c solvated-lipids.gro -p topol.top -o em.tpr -maxwarn 10"
   ]
  },
  {
   "cell_type": "markdown",
   "metadata": {},
   "source": [
    "Nyt meillä on syötetiedosto, joten voimme aloittaa energian minimoinnin!\n",
    "\n",
    "**Tehtävä 6:**\n",
    "\n",
    "> **Käynnistä energian minimointi suorittamalla allaoleva `mdrun` -käsky:**"
   ]
  },
  {
   "cell_type": "code",
   "execution_count": null,
   "metadata": {
    "scrolled": true
   },
   "outputs": [],
   "source": [
    "!gmx mdrun -s em.tpr -v"
   ]
  },
  {
   "cell_type": "markdown",
   "metadata": {},
   "source": [
    "Voimme havainnollistaa potentiaalienergian pienenemisen.\n",
    "\n",
    "**Tehtävä 7:**\n",
    "\n",
    "> **Aja komento alla, jotta saat tallennettua energian muuttumisen `ener.edr` output-tiedostosta tiedostoon nimeltä `energy.xvg`. Piirrä sitten data `matplotlib` -työkalun avulla ajamalla sitä seuraava Python-koodinpätkä**."
   ]
  },
  {
   "cell_type": "code",
   "execution_count": null,
   "metadata": {
    "scrolled": true
   },
   "outputs": [],
   "source": [
    "!echo \"5\" | gmx energy -f ener.edr -o energy.xvg"
   ]
  },
  {
   "cell_type": "code",
   "execution_count": null,
   "metadata": {},
   "outputs": [],
   "source": [
    "import matplotlib.pyplot as plt\n",
    "import numpy as np\n",
    "\n",
    "energy = np.loadtxt('energy.xvg', comments=['#', '@'])\n",
    "plt.plot(energy[50:, 0], energy[50:, 1])\n",
    "plt.xlabel('Energiaminimointiaskel')\n",
    "plt.ylabel('Potentiaalienergia (kJ/mol)')\n",
    "plt.show()"
   ]
  },
  {
   "cell_type": "markdown",
   "metadata": {},
   "source": [
    "Kuvaajasta näemme selkeästi miten systeemin potentiaalienergia pienenee ajon aikana. Nyt lähtögeometriamme on hieman stabiilimpi, joten olemme valmiit aloittamaan MD-simulaation syötetiedostojen valmistelun!\n",
    "\n",
    "## 4. Molekyylidynamiikka\n",
    "\n",
    "Ennen MD-simulaatiota tulee meidän jälleen valmistella syötetiedosto `md.tpr` kokoamalla yhteen energiaminimoitu rakenne (`confout.gro`), topologia (`topol.top`) ja MD-simulaation parametrit (`md.mdp`) `grompp`-käskyn avulla.\n",
    "\n",
    "**Tehtävä 8:**\n",
    "\n",
    "> **Suorita alla oleva komento luodaksesi syötetiedoston molekyylidynamiikkasimulaatiota varten:**"
   ]
  },
  {
   "cell_type": "code",
   "execution_count": null,
   "metadata": {
    "scrolled": true
   },
   "outputs": [],
   "source": [
    "!gmx grompp -f md.mdp -c confout.gro -p topol.top -o md.tpr -maxwarn 10"
   ]
  },
  {
   "cell_type": "markdown",
   "metadata": {},
   "source": [
    "Olemme nyt valmiita käynnistämään varsinainen MD-simulaation!\n",
    "\n",
    "**Tehtävä 9:**\n",
    "\n",
    "> **Käynnistä molekyylidynamiikkasimulaatio suorittamalla alla oleva komento. Komennon vaihtoehto `-nt 1` tarkoittaa, että työ ajetaan käyttäen yhtä laskentaydintä. Tällöin simulaatio kestää yleensä muutaman minuutin riippuen systeemisi koosta. Odota simulaation päättymistä.**"
   ]
  },
  {
   "cell_type": "code",
   "execution_count": null,
   "metadata": {
    "scrolled": true
   },
   "outputs": [],
   "source": [
    "!gmx mdrun -deffnm md -v -nt 4"
   ]
  },
  {
   "cell_type": "markdown",
   "metadata": {},
   "source": [
    "Voit ajaa simulaation useamman kerran ja muokata `-nt 1` vaihtoehtoa johonkin suurempaan arvoon, esim. `-nt 4`, jolloin simulaatio käyttää neljää laskentaydintä.\n",
    "\n",
    "**Tehtävä 10:**\n",
    "\n",
    "> **Käynnistä ylläoleva simulaatio uudestaan käyttäen useampaa laskentaydintä. Miten `-nt` arvon muuttaminen vaikuttaa simulaation nopeuteen? Tulosteen lopussa löytyy tiedot kuinka monta nanosekuntia per päivä (ns/day) kyseisisillä parametreilla voi simuloida.**\n",
    "\n",
    "**Simulaation ajaminen hyödyntämällä useaa laskentaydintä (rinnakkaistaminen) on suurteholaskennan perusperiaate!**"
   ]
  },
  {
   "cell_type": "markdown",
   "metadata": {},
   "source": [
    "## 5. Visualisointi\n",
    "\n",
    "**Hienoa, olet suorittanut molekyylidynamiikkasimulaation valitsemillesi lipidimolekyyleille jossakin liuottimessa!** Mielenkiintoisin kohta onkin nyt selvittää mitä simulaation aikana tapahtui.\n",
    "\n",
    "Ennen visualisointia tulee meidän kuitenkin hieman korjata simulaation tuottamaa polkua `md.xtc` (systeemin aikakehitystä). Ajamasi simulaatio hyödynsi nk. **periodisia reunaehtoja** (*periodic boundary conditions*, PBC), mikä tarkoittaa, että molekyylit voivat ylittää simulaatiokopin reunat, jolloin ne päätyvät kopin vastakkaiselle puolelle (kts. alla oleva kuva). Tämä on kätevä tapa simuloida jatkuvia rakenteita kuten kiteitä ja liuoksia.\n",
    "\n",
    "![](img/pbc.png)\n",
    "\n",
    "Systeemin visualisoiminen suoraan voi tästä syystä antaa harhaanjohtavan kuvan, että molekyylit vähitellen karkaavat toisistaan, johtaen pienenevään tiheyteen. Selkeän kuvan saamiseksi tulee meidän siis varmistaa, että reunat ylittävät molekyylit \"käännetään\" takaisin simulaatiokoppiin.\n",
    "\n",
    "**Tehtävä 11:**\n",
    "\n",
    "> **Huomioi simulaation periodiset reunaehdot visualisointia varten ajamalla seuraava `trjconv` -komento. Kokeile sitten visualisoida MD-simulaatio suorittamalla sitä seuraava koodinpätkä.**"
   ]
  },
  {
   "cell_type": "code",
   "execution_count": null,
   "metadata": {
    "scrolled": true
   },
   "outputs": [],
   "source": [
    "!echo \"0\" | gmx trjconv -f md.xtc -s md.tpr -o md_wrap.xtc -pbc mol"
   ]
  },
  {
   "cell_type": "code",
   "execution_count": null,
   "metadata": {
    "scrolled": true
   },
   "outputs": [],
   "source": [
    "import MDAnalysis as mda\n",
    "import nglview as nv\n",
    "\n",
    "u = mda.Universe('md.gro', 'md_wrap.xtc')\n",
    "view = nv.show_mdanalysis(u)\n",
    "view.add_spacefill(lipid.value)\n",
    "view.add_point(solvent.value)\n",
    "view.add_unitcell()\n",
    "view"
   ]
  },
  {
   "cell_type": "markdown",
   "metadata": {},
   "source": [
    "Visualisaatiossa harmaat pallot kuvaavat lipidimolekyylien \"häntiin\" kuuluvia karkeistettuja atomeita, kun taas valkoiset ja värikkäät pallot kuvaavat pääryhmiin kuuluvia hiuatomeitaatomeitakkasia. Pienet pisteet ovat liuotinmolekyylejä. Voit pyöritellä ja suurentaa/pienentää rakennetta hiiren avulla ja kelata simulaatiopolkua ohjauspaneelista.\n",
    "\n",
    "Kuten näet, pysyvät useimmat atomit simulaatiokopin sisällä koko simulaation aikana. Tekemämme korjaus saattaa kuitenkin aiheuttaa sen, että lipidien muodostama rakenne katkeaa reunojen yli, hankaloittaen rakenteen hahmottamista.\n",
    "\n",
    "**Tehtävä 12:**\n",
    "\n",
    "> **Kokeile ajaa alla oleva komento, joka siirtää muodostuneen lipidirakenteen simulaatiokopin keskelle. Visualisoi polku sitten uudestaan (tällä kertaa ilman liuotinmolekyylejä):**"
   ]
  },
  {
   "cell_type": "code",
   "execution_count": null,
   "metadata": {},
   "outputs": [],
   "source": [
    "!echo \"2 2 0\" | gmx trjconv -f md.xtc -s md.tpr -o md_whole.xtc -pbc cluster -center"
   ]
  },
  {
   "cell_type": "code",
   "execution_count": null,
   "metadata": {
    "scrolled": true
   },
   "outputs": [],
   "source": [
    "import MDAnalysis as mda\n",
    "import nglview as nv\n",
    "\n",
    "u = mda.Universe('md.gro', 'md_whole.xtc')\n",
    "view = nv.show_mdanalysis(u)\n",
    "view.add_spacefill(lipid.value)\n",
    "view.add_unitcell()\n",
    "view"
   ]
  },
  {
   "cell_type": "markdown",
   "metadata": {},
   "source": [
    "## 6. Termodynaaminen ja geometrinen tulkinta\n",
    "\n",
    "### Eli mitä tässä oikein tapahtui?\n",
    "\n",
    "Simulaation alussa lipidit ovat siellä täällä, mutta ajan myötä ne näyttävät järjestyvän itsestään! Ilmiölle on termodynaaminen selitys. Lipidit ovat nk. *amfifiilisiä* molekyylejä, eli niillä on **hydrofiilinen (poolinen) pääryhmä** sekä **hydrofobinen (pooliton) häntä**. Riippuen liuottimen poolisuudesta lipidit haluavat siis järjestyä siten, että saman poolisuuden omaavat ryhmät ovat lähellä toisiaan. Esimerkiksi vesi on *poolinen* liuotin.\n",
    "\n",
    "Lipidien itsejärjestyminen on spontaani prosessi sillä se **minimoi systeemin vapaaenergian $\\Delta G$**. Yleensä termodynaamiset systeemit pyrkivät kasvattamaan *entropiaan* (\"epäjärjestystä\"), mutta tässä tapauksessa systeemin järjestys kasvaa, eli entropia pienenee! Vapaaenergian muutokseen, mikä määrää tapahtuuko jokin prosessi itsestään vai ei, vaikuttaa kuitenkin olennaisesti myös entalpian muutos $\\Delta H$. Entalpian muutos onkin tässä tapauksessa varsin negatiivinen sillä lipidien järjestyminen johtaa suotuisampaan sähköstaattiseen vuorovaikutukseen ryhmien välillä. Näin ollen vapaaenergian muutos on kokonaisuudessaan negatiivinen:\n",
    "\n",
    "$$\\Delta G=\\Delta H-T\\Delta S<0$$\n",
    "\n",
    "Poolisuuden määräämän järestyksen lisäksi **lipidien geometria** vaikuttaa siihen minkälaisia *rakenteita* muodostuu. *Kriittinen pakkautumisparametri* (CPP) on tyypillisesti käytetty mitta, jolla voidaan ennustaa laadullisesti itsejärjestyneen lipidirakenteen muoto,\n",
    "\n",
    "$$\\mathrm{CPP}=\\frac{v}{a\\cdot l_c}$$\n",
    "\n",
    "missä $v$ ja $l_c$ ovat hännän tilavuus ja pituus, kun taas $a$ on pääryhmän poikkileikkauksen pinta-ala. Poolisen liuottimen tapauksessa lipidit joilla on iso pääryhmä ($\\mathrm{CPP}\\leq1/3$) muodostavat tyypillisesti pallomaisia *misellejä*, kun taas lieriömäiset rakenteet ja *vesikkelit*, eli pallomaiset kaksoiskalvot, ovat mahdollisia, jos pääryhmä on hieman pienempi ($1/3<\\mathrm{CPP}\\leq1/2$, esim. LPC).\n",
    "\n",
    "![](img/structure-1.png)\n",
    "\n",
    "![](img/structure-2.png)\n",
    "\n",
    "Jos lipidi on muodoltaan lieriö (pään poikkileikkaus on n. yhtä suuri kuin hännän, $1/2<\\mathrm{CPP}\\leq1$, esim. DPPC), muodostuu yleensä erinäisiä kaksoiskalvoja. Toisaalta, poolittomissa liuottimissa lipidit voivat muodostaa *käänteismisellejä*, joissa hydrofoobiset hännät osoittavat kohti liuotinta. Inversio on mahdollista myös poolisissa liuottimissa, jos lipidien pääryhmä on hyvin pieni ($\\mathrm{CPP}>1$, esim. POPE). Tällöin itsejärjestyneissä rakenteissa liuotin on käytännössä vangittuna hydrofiilisten pääryhmien muodostamiin aukkoihin.\n",
    "\n",
    "![](img/structure-3.png)\n",
    "\n",
    "## 7. Kokeile simulaatiota uudestaan!\n",
    "\n",
    "Vaihda valitsemaasi lipidiä ja/tai luotinta ja tutki saatko toistettua joitain yllä mainituista itsejärjestyneistä rakenteista. Huomaa, että myös lipidien konsentraatio vaikuttaa tuloksiin – isojen rakenteiden kuten kaksoiskalvojen muodostuminen on epätodennäköistä, jos lipidimolekyylien lukumäärä on liian pieni suhteessa simulaatiokopin kokoon.\n",
    "\n",
    "**Aloittaaksesi puhtaalta pöydältä voit ajaa alla olevan komennon poistaaksesi kaikki tähän asti luodut tiedostot. Voit myös tyhjentää kaikki tämän sivun tulosteet yläpalkista `Edit > Clear Outputs of All Cells`.**"
   ]
  },
  {
   "cell_type": "code",
   "execution_count": null,
   "metadata": {},
   "outputs": [],
   "source": [
    "!bash clean.sh"
   ]
  }
 ],
 "metadata": {
  "kernelspec": {
   "display_name": "Python 3 (ipykernel)",
   "language": "python",
   "name": "python3"
  },
  "language_info": {
   "codemirror_mode": {
    "name": "ipython",
    "version": 3
   },
   "file_extension": ".py",
   "mimetype": "text/x-python",
   "name": "python",
   "nbconvert_exporter": "python",
   "pygments_lexer": "ipython3",
   "version": "3.10.13"
  },
  "vscode": {
   "interpreter": {
    "hash": "f9f85f796d01129d0dd105a088854619f454435301f6ffec2fea96ecbd9be4ac"
   }
  }
 },
 "nbformat": 4,
 "nbformat_minor": 4
}
